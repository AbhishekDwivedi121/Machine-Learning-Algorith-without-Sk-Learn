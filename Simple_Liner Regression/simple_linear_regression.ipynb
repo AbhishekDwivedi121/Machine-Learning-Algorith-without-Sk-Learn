{
 "cells": [
  {
   "cell_type": "code",
   "execution_count": 1,
   "metadata": {},
   "outputs": [],
   "source": [
    "import numpy as np\n",
    "import pandas as pd\n",
    "import matplotlib.pyplot as plt\n",
    "from sklearn.model_selection import train_test_split as tts\n",
    "from sklearn.metrics import r2_score,mean_squared_error"
   ]
  },
  {
   "cell_type": "code",
   "execution_count": 2,
   "metadata": {},
   "outputs": [],
   "source": [
    "data = pd.read_csv('Salary.csv')"
   ]
  },
  {
   "cell_type": "code",
   "execution_count": 3,
   "metadata": {},
   "outputs": [
    {
     "data": {
      "text/html": [
       "<div>\n",
       "<style scoped>\n",
       "    .dataframe tbody tr th:only-of-type {\n",
       "        vertical-align: middle;\n",
       "    }\n",
       "\n",
       "    .dataframe tbody tr th {\n",
       "        vertical-align: top;\n",
       "    }\n",
       "\n",
       "    .dataframe thead th {\n",
       "        text-align: right;\n",
       "    }\n",
       "</style>\n",
       "<table border=\"1\" class=\"dataframe\">\n",
       "  <thead>\n",
       "    <tr style=\"text-align: right;\">\n",
       "      <th></th>\n",
       "      <th>YearsExperience</th>\n",
       "      <th>Salary</th>\n",
       "    </tr>\n",
       "  </thead>\n",
       "  <tbody>\n",
       "    <tr>\n",
       "      <th>0</th>\n",
       "      <td>1.1</td>\n",
       "      <td>39343</td>\n",
       "    </tr>\n",
       "    <tr>\n",
       "      <th>1</th>\n",
       "      <td>1.3</td>\n",
       "      <td>46205</td>\n",
       "    </tr>\n",
       "    <tr>\n",
       "      <th>2</th>\n",
       "      <td>1.5</td>\n",
       "      <td>37731</td>\n",
       "    </tr>\n",
       "    <tr>\n",
       "      <th>3</th>\n",
       "      <td>2.0</td>\n",
       "      <td>43525</td>\n",
       "    </tr>\n",
       "    <tr>\n",
       "      <th>4</th>\n",
       "      <td>2.2</td>\n",
       "      <td>39891</td>\n",
       "    </tr>\n",
       "  </tbody>\n",
       "</table>\n",
       "</div>"
      ],
      "text/plain": [
       "   YearsExperience  Salary\n",
       "0              1.1   39343\n",
       "1              1.3   46205\n",
       "2              1.5   37731\n",
       "3              2.0   43525\n",
       "4              2.2   39891"
      ]
     },
     "execution_count": 3,
     "metadata": {},
     "output_type": "execute_result"
    }
   ],
   "source": [
    "data.head()"
   ]
  },
  {
   "cell_type": "code",
   "execution_count": 4,
   "metadata": {},
   "outputs": [],
   "source": [
    "X = data['YearsExperience'].values\n",
    "Y = data['Salary'].values\n"
   ]
  },
  {
   "cell_type": "code",
   "execution_count": 5,
   "metadata": {},
   "outputs": [],
   "source": [
    "X_train,X_test,y_train,y_test = tts(X,Y)"
   ]
  },
  {
   "cell_type": "markdown",
   "metadata": {},
   "source": [
    "<h1> ------ Formula of Simple Linear Regression ---------</h1>\n",
    "\n",
    "<h2> y = m X + b </h2>\n",
    "<h3> m = (X - X.mean) * (y - y.mean) / (X - X.mean) * (X - X.mean) </h3>\n",
    "<h3> b = y.mean - (m * X.mean)"
   ]
  },
  {
   "cell_type": "code",
   "execution_count": 16,
   "metadata": {},
   "outputs": [],
   "source": [
    "class Regression_fromula:\n",
    "    def __init__(self,plot=None):\n",
    "        self.m = 0\n",
    "        self.b = 0\n",
    "        self.plot = plot\n",
    "    \n",
    "    def fit(self,X_train,y_train):\n",
    "        X_mean = X_train.mean()\n",
    "        y_mean = y_train.mean()\n",
    "        numerator = 0\n",
    "        denominator = 0\n",
    "\n",
    "        for i in range(X_train.shape[0]):\n",
    "\n",
    "         numerator = numerator + ((X_train[i] - X_mean) * (y_train[i] - y_mean))\n",
    "         denominator = denominator + (X_train[i] - X_mean) ** 2\n",
    "\n",
    "        \n",
    "        self.m = numerator / denominator\n",
    "        self.b = y_mean - (self.m * X_mean)\n",
    "        y_pred = self.m * X_train + self.b\n",
    "\n",
    "\n",
    "        if self.plot == 'scatter':\n",
    "            plt.scatter(X_train,y_train)\n",
    "        elif self.plot == 'line_plot':\n",
    "            plt.scatter(X_train,y_train)\n",
    "            plt.plot(X_train,y_pred)\n",
    "\n",
    "        \n",
    "    \n",
    "    def predict(self,X_test):\n",
    "        return self.m * X_test + self.b\n",
    "    \n",
    "    def score(self,y_test,y_pred):\n",
    "        \n",
    "        print(\"MSE\",mean_squared_error(y_test,y_pred))\n",
    "        print(\"Score\",r2_score(y_test,y_pred))"
   ]
  },
  {
   "cell_type": "code",
   "execution_count": 21,
   "metadata": {},
   "outputs": [
    {
     "data": {
      "image/png": "[encoded data removed]",
      "text/plain": [
       "<Figure size 432x288 with 1 Axes>"
      ]
     },
     "metadata": {
      "needs_background": "light"
     },
     "output_type": "display_data"
    }
   ],
   "source": [
    "reg = Regression_fromula(plot='line_plot')\n",
    "reg.fit(X_train,y_train)\n"
   ]
  },
  {
   "cell_type": "code",
   "execution_count": 22,
   "metadata": {},
   "outputs": [
    {
     "name": "stdout",
     "output_type": "stream",
     "text": [
      "MSE 44663218.140373215\n",
      "Score 0.9542573519376866\n"
     ]
    }
   ],
   "source": [
    "y_pred = reg.predict(X_test)\n",
    "reg.score(y_test,y_pred)"
   ]
  },
  {
   "cell_type": "code",
   "execution_count": null,
   "metadata": {},
   "outputs": [],
   "source": []
  }
 ],
 "metadata": {
  "kernelspec": {
   "display_name": "Python 3.9.7 ('base')",
   "language": "python",
   "name": "python3"
  },
  "language_info": {
   "codemirror_mode": {
    "name": "ipython",
    "version": 3
   },
   "file_extension": ".py",
   "mimetype": "text/x-python",
   "name": "python",
   "nbconvert_exporter": "python",
   "pygments_lexer": "ipython3",
   "version": "3.9.7"
  },
  "orig_nbformat": 4,
  "vscode": {
   "interpreter": {
    "hash": "af9746f1188fae32ca199468d54a4ab10347d2ce28c499ed2e606ede772478df"
   }
  }
 },
 "nbformat": 4,
 "nbformat_minor": 2
}
