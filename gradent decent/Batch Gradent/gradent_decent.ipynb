{
 "cells": [
  {
   "cell_type": "markdown",
   "metadata": {},
   "source": [
    "<h1>Sk Learn</h1>"
   ]
  },
  {
   "cell_type": "code",
   "execution_count": 66,
   "metadata": {},
   "outputs": [],
   "source": [
    "import pandas as pd\n",
    "import numpy as np\n",
    "from sklearn.linear_model import LinearRegression\n",
    "import matplotlib.pyplot as plt"
   ]
  },
  {
   "cell_type": "code",
   "execution_count": 67,
   "metadata": {},
   "outputs": [],
   "source": [
    "data = pd.read_csv(\"Salary.csv\")"
   ]
  },
  {
   "cell_type": "code",
   "execution_count": 68,
   "metadata": {},
   "outputs": [
    {
     "data": {
      "text/html": [
       "<div>\n",
       "<style scoped>\n",
       "    .dataframe tbody tr th:only-of-type {\n",
       "        vertical-align: middle;\n",
       "    }\n",
       "\n",
       "    .dataframe tbody tr th {\n",
       "        vertical-align: top;\n",
       "    }\n",
       "\n",
       "    .dataframe thead th {\n",
       "        text-align: right;\n",
       "    }\n",
       "</style>\n",
       "<table border=\"1\" class=\"dataframe\">\n",
       "  <thead>\n",
       "    <tr style=\"text-align: right;\">\n",
       "      <th></th>\n",
       "      <th>YearsExperience</th>\n",
       "      <th>Salary</th>\n",
       "    </tr>\n",
       "  </thead>\n",
       "  <tbody>\n",
       "    <tr>\n",
       "      <th>0</th>\n",
       "      <td>1.1</td>\n",
       "      <td>39343</td>\n",
       "    </tr>\n",
       "    <tr>\n",
       "      <th>1</th>\n",
       "      <td>1.3</td>\n",
       "      <td>46205</td>\n",
       "    </tr>\n",
       "    <tr>\n",
       "      <th>2</th>\n",
       "      <td>1.5</td>\n",
       "      <td>37731</td>\n",
       "    </tr>\n",
       "    <tr>\n",
       "      <th>3</th>\n",
       "      <td>2.0</td>\n",
       "      <td>43525</td>\n",
       "    </tr>\n",
       "    <tr>\n",
       "      <th>4</th>\n",
       "      <td>2.2</td>\n",
       "      <td>39891</td>\n",
       "    </tr>\n",
       "  </tbody>\n",
       "</table>\n",
       "</div>"
      ],
      "text/plain": [
       "   YearsExperience  Salary\n",
       "0              1.1   39343\n",
       "1              1.3   46205\n",
       "2              1.5   37731\n",
       "3              2.0   43525\n",
       "4              2.2   39891"
      ]
     },
     "execution_count": 68,
     "metadata": {},
     "output_type": "execute_result"
    }
   ],
   "source": [
    "data.head()"
   ]
  },
  {
   "cell_type": "code",
   "execution_count": 69,
   "metadata": {},
   "outputs": [],
   "source": [
    "X = data['YearsExperience'].values\n",
    "Y = data['Salary'].values"
   ]
  },
  {
   "cell_type": "code",
   "execution_count": 70,
   "metadata": {},
   "outputs": [],
   "source": [
    "X = X.reshape(-1,1)"
   ]
  },
  {
   "cell_type": "code",
   "execution_count": 71,
   "metadata": {},
   "outputs": [
    {
     "data": {
      "text/plain": [
       "LinearRegression()"
      ]
     },
     "execution_count": 71,
     "metadata": {},
     "output_type": "execute_result"
    }
   ],
   "source": [
    "model = LinearRegression()\n",
    "model.fit(X,Y)"
   ]
  },
  {
   "cell_type": "code",
   "execution_count": 72,
   "metadata": {},
   "outputs": [
    {
     "data": {
      "image/png": "[encoded data removed]",
      "text/plain": [
       "<Figure size 432x288 with 1 Axes>"
      ]
     },
     "metadata": {
      "needs_background": "light"
     },
     "output_type": "display_data"
    }
   ],
   "source": [
    "plt.scatter(X,Y)\n",
    "plt.plot(X,model.predict(X))\n",
    "plt.show()"
   ]
  },
  {
   "cell_type": "code",
   "execution_count": 73,
   "metadata": {},
   "outputs": [
    {
     "name": "stdout",
     "output_type": "stream",
     "text": [
      "[8731.94104706]\n",
      "28859.52619453144\n"
     ]
    }
   ],
   "source": [
    "print(model.coef_)\n",
    "print(model.intercept_)"
   ]
  },
  {
   "cell_type": "markdown",
   "metadata": {},
   "source": [
    "<h1>Gradent Decent</h1>"
   ]
  },
  {
   "cell_type": "code",
   "execution_count": 80,
   "metadata": {},
   "outputs": [],
   "source": [
    "class Gradent:\n",
    "    \n",
    "    def __init__(self,learning_rate,epoches):\n",
    "        self.m_list = []\n",
    "        self.b_list = []\n",
    "        self.m = 100\n",
    "        self.b = 0\n",
    "        self.lr = learning_rate\n",
    "        self.epoch = epoches\n",
    "        \n",
    "    def fit(self,X,y):\n",
    "\n",
    "        for i in range(self.epoch):\n",
    "\n",
    "            b_slope = -2 * np.sum(y - self.m*X.ravel() - self.b)\n",
    "            m_slope = -2 * np.sum((y - self.m*X.ravel() - self.m)*X.ravel())\n",
    "\n",
    "            self.b = self.b - (self.lr * b_slope)\n",
    "            self.m = self.m - (self.lr * m_slope)\n",
    "            \n",
    "            self.m_list.append(self.m)\n",
    "            self.b_list.append(self.b)\n",
    "        print(\"Value of B\",self.b)\n",
    "        print(\"Value of M\",self.m)\n",
    "        y_pred = self.m * X + self.b \n",
    "        \n",
    "        return  y_pred,self.m_list\n",
    "         "
   ]
  },
  {
   "cell_type": "markdown",
   "metadata": {},
   "source": [
    "[8731.94104706]\n",
    "11485"
   ]
  },
  {
   "cell_type": "code",
   "execution_count": 82,
   "metadata": {},
   "outputs": [
    {
     "name": "stdout",
     "output_type": "stream",
     "text": [
      "Value of B 14492.005869035718\n",
      "Value of M 10890.416185027247\n"
     ]
    },
    {
     "data": {
      "image/png": "[encoded data removed]",
      "text/plain": [
       "<Figure size 432x288 with 1 Axes>"
      ]
     },
     "metadata": {
      "needs_background": "light"
     },
     "output_type": "display_data"
    }
   ],
   "source": [
    "g = Gradent(0.0004,100)\n",
    "y_pred, m_list = g.fit(X,Y)\n",
    "plt.scatter(X,Y)\n",
    "plt.plot(X,y_pred,color = 'red',label = 'Gradent Decent')\n",
    "# plt.plot(X,model.predict(X),color = 'yellow',label = 'Sk_learn')\n",
    "plt.legend()\n",
    "plt.show()"
   ]
  },
  {
   "cell_type": "code",
   "execution_count": 78,
   "metadata": {},
   "outputs": [
    {
     "data": {
      "text/plain": [
       "[4543.3639,\n",
       " 7157.0038663468,\n",
       " 8694.378258231583,\n",
       " 9598.680324030916,\n",
       " 10130.601650758874,\n",
       " 10443.48415819618,\n",
       " 10627.525403660891,\n",
       " 10735.78067273818,\n",
       " 10799.45772107267,\n",
       " 10836.913325027597,\n",
       " 10858.945160741134,\n",
       " 10871.904550889863,\n",
       " 10879.52741968803,\n",
       " 10884.011282589536,\n",
       " 10886.648744554555,\n",
       " 10888.200131331923,\n",
       " 10889.112675651013,\n",
       " 10889.649445170033,\n",
       " 10889.965179442355,\n",
       " 10890.150898130147,\n",
       " 10890.26014009093,\n",
       " 10890.324397523165,\n",
       " 10890.362194515896,\n",
       " 10890.384427160585,\n",
       " 10890.397504668981,\n",
       " 10890.405197016351,\n",
       " 10890.40972174738,\n",
       " 10890.412383248471,\n",
       " 10890.41394877535,\n",
       " 10890.414869637045,\n",
       " 10890.415411298945,\n",
       " 10890.415729910976,\n",
       " 10890.415917322394,\n",
       " 10890.41602756004,\n",
       " 10890.416092403146,\n",
       " 10890.41613054464,\n",
       " 10890.416152979924,\n",
       " 10890.416166176627,\n",
       " 10890.416173939086,\n",
       " 10890.416178505058,\n",
       " 10890.416181190818,\n",
       " 10890.416182770614,\n",
       " 10890.416183699868,\n",
       " 10890.416184246467,\n",
       " 10890.416184567983,\n",
       " 10890.416184757103,\n",
       " 10890.416184868345,\n",
       " 10890.41618493378,\n",
       " 10890.416184972268,\n",
       " 10890.416184994907,\n",
       " 10890.416185008224,\n",
       " 10890.416185016058,\n",
       " 10890.416185020666,\n",
       " 10890.416185023376,\n",
       " 10890.41618502497,\n",
       " 10890.416185025908,\n",
       " 10890.416185026459,\n",
       " 10890.416185026783,\n",
       " 10890.416185026974,\n",
       " 10890.416185027087,\n",
       " 10890.416185027152,\n",
       " 10890.416185027192,\n",
       " 10890.416185027214,\n",
       " 10890.416185027227,\n",
       " 10890.416185027236,\n",
       " 10890.416185027241,\n",
       " 10890.416185027243,\n",
       " 10890.416185027245,\n",
       " 10890.416185027245,\n",
       " 10890.416185027245,\n",
       " 10890.416185027245,\n",
       " 10890.416185027245,\n",
       " 10890.416185027245,\n",
       " 10890.416185027245,\n",
       " 10890.416185027245,\n",
       " 10890.416185027245,\n",
       " 10890.416185027245,\n",
       " 10890.416185027245,\n",
       " 10890.416185027245,\n",
       " 10890.416185027245,\n",
       " 10890.416185027245,\n",
       " 10890.416185027245,\n",
       " 10890.416185027245,\n",
       " 10890.416185027245,\n",
       " 10890.416185027245,\n",
       " 10890.416185027245,\n",
       " 10890.416185027245,\n",
       " 10890.416185027245,\n",
       " 10890.416185027245,\n",
       " 10890.416185027245,\n",
       " 10890.416185027245,\n",
       " 10890.416185027245,\n",
       " 10890.416185027245,\n",
       " 10890.416185027245,\n",
       " 10890.416185027245,\n",
       " 10890.416185027245,\n",
       " 10890.416185027245,\n",
       " 10890.416185027245,\n",
       " 10890.416185027245,\n",
       " 10890.416185027245]"
      ]
     },
     "execution_count": 78,
     "metadata": {},
     "output_type": "execute_result"
    }
   ],
   "source": [
    "m_list"
   ]
  },
  {
   "cell_type": "code",
   "execution_count": null,
   "metadata": {},
   "outputs": [],
   "source": []
  }
 ],
 "metadata": {
  "kernelspec": {
   "display_name": "Python 3.9.7 ('base')",
   "language": "python",
   "name": "python3"
  },
  "language_info": {
   "codemirror_mode": {
    "name": "ipython",
    "version": 3
   },
   "file_extension": ".py",
   "mimetype": "text/x-python",
   "name": "python",
   "nbconvert_exporter": "python",
   "pygments_lexer": "ipython3",
   "version": "3.9.7"
  },
  "orig_nbformat": 4,
  "vscode": {
   "interpreter": {
    "hash": "af9746f1188fae32ca199468d54a4ab10347d2ce28c499ed2e606ede772478df"
   }
  }
 },
 "nbformat": 4,
 "nbformat_minor": 2
}
