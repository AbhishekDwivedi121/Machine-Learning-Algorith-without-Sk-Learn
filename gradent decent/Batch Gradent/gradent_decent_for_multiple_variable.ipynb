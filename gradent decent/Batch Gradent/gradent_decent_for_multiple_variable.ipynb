{
 "cells": [
  {
   "cell_type": "markdown",
   "metadata": {},
   "source": [
    "<h1> Sk Learn </h1>\n"
   ]
  },
  {
   "cell_type": "code",
   "execution_count": 149,
   "metadata": {},
   "outputs": [],
   "source": [
    "import numpy as np\n",
    "from sklearn.datasets import load_diabetes\n",
    "from sklearn.model_selection import train_test_split as tts\n",
    "from sklearn.linear_model import LinearRegression\n",
    "from sklearn.metrics import r2_score"
   ]
  },
  {
   "cell_type": "code",
   "execution_count": 150,
   "metadata": {},
   "outputs": [],
   "source": [
    "X,y = load_diabetes(return_X_y=True)"
   ]
  },
  {
   "cell_type": "code",
   "execution_count": 151,
   "metadata": {},
   "outputs": [],
   "source": [
    "X_test,X_train,y_test,y_train = tts(X,y,train_size=0.2)"
   ]
  },
  {
   "cell_type": "code",
   "execution_count": 152,
   "metadata": {},
   "outputs": [],
   "source": [
    "reg = LinearRegression()"
   ]
  },
  {
   "cell_type": "code",
   "execution_count": 153,
   "metadata": {},
   "outputs": [
    {
     "data": {
      "text/plain": [
       "LinearRegression()"
      ]
     },
     "execution_count": 153,
     "metadata": {},
     "output_type": "execute_result"
    }
   ],
   "source": [
    "reg.fit(X_train,y_train)"
   ]
  },
  {
   "cell_type": "code",
   "execution_count": 154,
   "metadata": {},
   "outputs": [
    {
     "data": {
      "text/plain": [
       "0.49281267639407955"
      ]
     },
     "execution_count": 154,
     "metadata": {},
     "output_type": "execute_result"
    }
   ],
   "source": [
    "reg.score(X_test,y_test)"
   ]
  },
  {
   "cell_type": "markdown",
   "metadata": {},
   "source": [
    "<h1> Gradent Decent </h1>"
   ]
  },
  {
   "cell_type": "code",
   "execution_count": 155,
   "metadata": {},
   "outputs": [],
   "source": [
    "class Regissor:\n",
    "    def __init__(self,learning_rate = 0.1,epoches = 100):\n",
    "        self.intercept = None\n",
    "        self.cofe = None\n",
    "        self.lr = learning_rate\n",
    "        self.epoches = epoches\n",
    "\n",
    "\n",
    "\n",
    "    def fit(self,X_train,y_train):\n",
    "       self.intercept = 0\n",
    "       self.cofe = np.ones(X_train.shape[1])\n",
    "\n",
    "       for i in range(self.epoches):\n",
    "          y_hat = np.dot(X_train,self.cofe) + self.intercept\n",
    "\n",
    "          intercept_diff = -2 * np.mean(y_train - y_hat)\n",
    "          self.intercept = self.intercept - (self.lr * intercept_diff)\n",
    "\n",
    "          cofe_diff = -2 * np.dot((y_train - y_hat),X_train) / X_train.shape[0]\n",
    "          self.cofe = self.cofe - (self.lr * cofe_diff)\n",
    "       print(\"Intercept = \",self.intercept)\n",
    "       print(\"coeficent = \",self.cofe)\n",
    "\n",
    "\n",
    "    def predict(self,X_test):\n",
    "        return np.dot(X_test,self.cofe) + self.intercept\n",
    "  \n",
    "        \n",
    "        "
   ]
  },
  {
   "cell_type": "code",
   "execution_count": 156,
   "metadata": {},
   "outputs": [
    {
     "name": "stdout",
     "output_type": "stream",
     "text": [
      "Intercept =  152.0218707181057\n",
      "coeficent =  [ -16.80335202 -272.77320949  517.19699219  318.12574497  -66.10703257\n",
      " -103.91922692 -225.49429309   85.11662274  497.17635018   60.57460474]\n"
     ]
    },
    {
     "data": {
      "text/plain": [
       "0.49141301509208957"
      ]
     },
     "execution_count": 156,
     "metadata": {},
     "output_type": "execute_result"
    }
   ],
   "source": [
    "re = Regissor(0.7,2000)\n",
    "re.fit(X_train,y_train)\n",
    "y_pred = re.predict(X_test)\n",
    "r2_score(y_test,y_pred)"
   ]
  },
  {
   "cell_type": "code",
   "execution_count": null,
   "metadata": {},
   "outputs": [],
   "source": []
  }
 ],
 "metadata": {
  "kernelspec": {
   "display_name": "Python 3.9.7 ('base')",
   "language": "python",
   "name": "python3"
  },
  "language_info": {
   "codemirror_mode": {
    "name": "ipython",
    "version": 3
   },
   "file_extension": ".py",
   "mimetype": "text/x-python",
   "name": "python",
   "nbconvert_exporter": "python",
   "pygments_lexer": "ipython3",
   "version": "3.9.7"
  },
  "orig_nbformat": 4,
  "vscode": {
   "interpreter": {
    "hash": "af9746f1188fae32ca199468d54a4ab10347d2ce28c499ed2e606ede772478df"
   }
  }
 },
 "nbformat": 4,
 "nbformat_minor": 2
}
